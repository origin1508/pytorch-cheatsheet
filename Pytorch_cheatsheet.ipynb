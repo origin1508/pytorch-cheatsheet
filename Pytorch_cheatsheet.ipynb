{
  "nbformat": 4,
  "nbformat_minor": 0,
  "metadata": {
    "colab": {
      "provenance": [],
      "toc_visible": true,
      "authorship_tag": "ABX9TyOYj3aeT650hFBvJVb7dv5n",
      "include_colab_link": true
    },
    "kernelspec": {
      "name": "python3",
      "display_name": "Python 3"
    },
    "language_info": {
      "name": "python"
    },
    "widgets": {
      "application/vnd.jupyter.widget-state+json": {
        "06928eab76e840deadcec9e828461745": {
          "model_module": "@jupyter-widgets/output",
          "model_name": "OutputModel",
          "model_module_version": "1.0.0",
          "state": {
            "_dom_classes": [],
            "_model_module": "@jupyter-widgets/output",
            "_model_module_version": "1.0.0",
            "_model_name": "OutputModel",
            "_view_count": null,
            "_view_module": "@jupyter-widgets/output",
            "_view_module_version": "1.0.0",
            "_view_name": "OutputView",
            "layout": "IPY_MODEL_c6af5ff66ee649149e38932854e22ae8",
            "msg_id": "",
            "outputs": [
              {
                "output_type": "display_data",
                "data": {
                  "text/plain": "Overall \u001b[38;2;114;156;31m━━━━━━━━━━━━━━━━━━━━━━━━━━━━━━━━━━━━━━━━\u001b[0m \u001b[35m100%\u001b[0m \u001b[36m0:00:00\u001b[0m\nKernels \u001b[38;5;237m━━━━━━━━━━━━━━━━━━━━━━━━━━━━━━━━━━━━━━━━\u001b[0m \u001b[35m  0%\u001b[0m \u001b[36m0:00:01\u001b[0m\n",
                  "text/html": "<pre style=\"white-space:pre;overflow-x:auto;line-height:normal;font-family:Menlo,'DejaVu Sans Mono',consolas,'Courier New',monospace\">Overall <span style=\"color: #729c1f; text-decoration-color: #729c1f\">━━━━━━━━━━━━━━━━━━━━━━━━━━━━━━━━━━━━━━━━</span> <span style=\"color: #800080; text-decoration-color: #800080\">100%</span> <span style=\"color: #008080; text-decoration-color: #008080\">0:00:00</span>\nKernels <span style=\"color: #3a3a3a; text-decoration-color: #3a3a3a\">━━━━━━━━━━━━━━━━━━━━━━━━━━━━━━━━━━━━━━━━</span> <span style=\"color: #800080; text-decoration-color: #800080\">  0%</span> <span style=\"color: #008080; text-decoration-color: #008080\">0:00:01</span>\n</pre>\n"
                },
                "metadata": {}
              }
            ]
          }
        },
        "c6af5ff66ee649149e38932854e22ae8": {
          "model_module": "@jupyter-widgets/base",
          "model_name": "LayoutModel",
          "model_module_version": "1.2.0",
          "state": {
            "_model_module": "@jupyter-widgets/base",
            "_model_module_version": "1.2.0",
            "_model_name": "LayoutModel",
            "_view_count": null,
            "_view_module": "@jupyter-widgets/base",
            "_view_module_version": "1.2.0",
            "_view_name": "LayoutView",
            "align_content": null,
            "align_items": null,
            "align_self": null,
            "border": null,
            "bottom": null,
            "display": null,
            "flex": null,
            "flex_flow": null,
            "grid_area": null,
            "grid_auto_columns": null,
            "grid_auto_flow": null,
            "grid_auto_rows": null,
            "grid_column": null,
            "grid_gap": null,
            "grid_row": null,
            "grid_template_areas": null,
            "grid_template_columns": null,
            "grid_template_rows": null,
            "height": null,
            "justify_content": null,
            "justify_items": null,
            "left": null,
            "margin": null,
            "max_height": null,
            "max_width": null,
            "min_height": null,
            "min_width": null,
            "object_fit": null,
            "object_position": null,
            "order": null,
            "overflow": null,
            "overflow_x": null,
            "overflow_y": null,
            "padding": null,
            "right": null,
            "top": null,
            "visibility": null,
            "width": null
          }
        }
      }
    }
  },
  "cells": [
    {
      "cell_type": "markdown",
      "metadata": {
        "id": "view-in-github",
        "colab_type": "text"
      },
      "source": [
        "<a href=\"https://colab.research.google.com/github/origin1508/pytorch-cheatsheet/blob/main/Pytorch_cheatsheet.ipynb\" target=\"_parent\"><img src=\"https://colab.research.google.com/assets/colab-badge.svg\" alt=\"Open In Colab\"/></a>"
      ]
    },
    {
      "cell_type": "markdown",
      "source": [
        "## 코랩 단축키\n",
        "|단축키|명령|\n",
        "|---|---|\n",
        "|Ctrl + M H|단축키 보기|\n",
        "|Ctrl + Enter|초점이 맞춰진 셀 실행|\n",
        "|Shift + Enter|셀 실행후 다음셀로|\n",
        "|Alt + Enter|셀 실행후 새 셀 생성|\n",
        "|Ctrl + M .|런타임 다시 시작|\n",
        "|Ctrl + M B|아래에 코드 셀 삽입|\n",
        "|Ctrl + M A|위에 코드 셀 삽입|\n",
        "|Ctrl + M D|셀 지우기|\n",
        "|Ctrl + M Y|코드 셀로 변경|\n",
        "|Ctrl + M M|마크다운 셀로 변경|\n"
      ],
      "metadata": {
        "id": "EIiwot_rOggo"
      }
    },
    {
      "cell_type": "markdown",
      "source": [
        "## 사전설정\n",
        "* `%matplotlib` : 현재 노트북에 plotting을 하게 해주는 magic command\n",
        "* inline : 노트북 내부에 출력하도록 설정\n",
        "\n",
        "> **magic command**는 IPython 인터프리터에 추가된 특수 명령어. 명령어 앞에 `%`기호를 붙여 사용한다."
      ],
      "metadata": {
        "id": "eA84q7GRI56W"
      }
    },
    {
      "cell_type": "code",
      "source": [
        "%matplotlib inline"
      ],
      "metadata": {
        "id": "xfvzQbigJukX"
      },
      "execution_count": null,
      "outputs": []
    },
    {
      "cell_type": "markdown",
      "source": [
        "### 구글 드라이브 mount\n",
        "* %cd : 디렉토리 이동\n",
        "* %ls : 현재 디렉토리의 내용을 확인"
      ],
      "metadata": {
        "id": "yBh3h88sKvR8"
      }
    },
    {
      "cell_type": "code",
      "source": [
        "from google.colab import drive\n",
        "drive.mount(\"/content/drive\")"
      ],
      "metadata": {
        "colab": {
          "base_uri": "https://localhost:8080/"
        },
        "id": "EBVbGBg3Jlu_",
        "outputId": "99a569a7-a305-4542-90e3-ea759671a063"
      },
      "execution_count": null,
      "outputs": [
        {
          "output_type": "stream",
          "name": "stdout",
          "text": [
            "Mounted at /content/drive\n"
          ]
        }
      ]
    },
    {
      "cell_type": "code",
      "source": [
        "%cd /content/drive/MyDrive/Colab Notebooks/\n",
        "%ls"
      ],
      "metadata": {
        "colab": {
          "base_uri": "https://localhost:8080/"
        },
        "id": "o7-BhJiVK2Pj",
        "outputId": "0c83f146-19bc-4df7-ec6a-ef839b8aeb9e"
      },
      "execution_count": null,
      "outputs": [
        {
          "output_type": "stream",
          "name": "stdout",
          "text": [
            "/content/drive/MyDrive/Colab Notebooks\n",
            "'one-hot encoding.ipynb'    '파일입출력_2.ipynb의 사본'\n",
            "'Pytorch cheatsheet.ipynb'\n"
          ]
        }
      ]
    },
    {
      "cell_type": "markdown",
      "source": [
        "## 코랩을 써야하는 이유\n",
        "torch.cuda.is_available()    \n",
        "그래픽 카드를 써야하기 때문이다. GPU를 사용하면 병렬 연산이 가능하기 때문이다.\n",
        "\n",
        "런타임 유형변경에서 하드웨어 가속기를 gpu로 변경할 수 있다."
      ],
      "metadata": {
        "id": "3aLbt-cNccnv"
      }
    },
    {
      "cell_type": "code",
      "source": [
        "device = torch.device(\"cuda\" if torch.cuda.is_available() else \"cpu\")\n",
        "print(device)\n",
        "\n",
        "torch.ones([2, 4], dtype=torch.float64, device=device)\n",
        "\n",
        "x = torch.tensor([[1., -1.], [1., -1.]])\n",
        "x.to(device)\n",
        "# x.to(device, dtype=torch.float64) 데이터 타입을 지정가능"
      ],
      "metadata": {
        "colab": {
          "base_uri": "https://localhost:8080/"
        },
        "id": "rlKm8Kubcyhz",
        "outputId": "32d0d37a-c2fc-4626-ad2a-a3b5d21dfdab"
      },
      "execution_count": null,
      "outputs": [
        {
          "output_type": "stream",
          "name": "stdout",
          "text": [
            "cpu\n"
          ]
        },
        {
          "output_type": "execute_result",
          "data": {
            "text/plain": [
              "tensor([[ 1., -1.],\n",
              "        [ 1., -1.]])"
            ]
          },
          "metadata": {},
          "execution_count": 79
        }
      ]
    },
    {
      "cell_type": "code",
      "source": [
        "### shape, dtype, device\n",
        "tensor = torch.rand(3, 4)\n",
        "\n",
        "print(f\"Shape of tensor: {tensor.shape}\")\n",
        "print(f\"Datatype of tensor: {tensor.dtype}\")\n",
        "print(f\"Device tensor is stored on: {tensor.device}\")\n",
        "print(f\"Number of dimension: {tensor.ndim}\")"
      ],
      "metadata": {
        "colab": {
          "base_uri": "https://localhost:8080/"
        },
        "id": "PUv42hJ7dWH_",
        "outputId": "6f456377-8482-4435-db86-c8eacce50a6f"
      },
      "execution_count": null,
      "outputs": [
        {
          "output_type": "stream",
          "name": "stdout",
          "text": [
            "Shape of tensor: torch.Size([3, 4])\n",
            "Datatype of tensor: torch.float32\n",
            "Device tensor is stored on: cpu\n",
            "Number of dimension: 2\n"
          ]
        }
      ]
    },
    {
      "cell_type": "markdown",
      "source": [
        "## Pytorch\n",
        "행렬을 고차원으로 빠르고 편리하게 쓸 수 있게 도구를 넣어둔 라이브러리"
      ],
      "metadata": {
        "id": "mDlPDHEtMKt0"
      }
    },
    {
      "cell_type": "code",
      "source": [
        "import numpy as np\n",
        "import torch"
      ],
      "metadata": {
        "id": "eI6VbQlUNDgU"
      },
      "execution_count": null,
      "outputs": []
    },
    {
      "cell_type": "code",
      "source": [
        "print(torch.__version__)"
      ],
      "metadata": {
        "colab": {
          "base_uri": "https://localhost:8080/"
        },
        "id": "fAut1CaoNEoW",
        "outputId": "f27e5331-403a-4933-98b0-4bfc303eff9e"
      },
      "execution_count": null,
      "outputs": [
        {
          "output_type": "stream",
          "name": "stdout",
          "text": [
            "2.0.1+cu118\n"
          ]
        }
      ]
    },
    {
      "cell_type": "markdown",
      "source": [
        "### 영행렬\n",
        "0으로 채워진 행렬 만들기\n",
        "\n",
        "파이토치의 기본 데이터 타입은 32비트 부동소수점"
      ],
      "metadata": {
        "id": "PnfB7_G6NbKh"
      }
    },
    {
      "cell_type": "code",
      "source": [
        "z = torch.zeros(5, 3)\n",
        "print(z)\n",
        "print(z.dtype)"
      ],
      "metadata": {
        "colab": {
          "base_uri": "https://localhost:8080/"
        },
        "id": "zlLC08cTNHqM",
        "outputId": "434e1597-f2a1-41d0-dcf4-d5198756fd80"
      },
      "execution_count": null,
      "outputs": [
        {
          "output_type": "stream",
          "name": "stdout",
          "text": [
            "tensor([[0., 0., 0.],\n",
            "        [0., 0., 0.],\n",
            "        [0., 0., 0.],\n",
            "        [0., 0., 0.],\n",
            "        [0., 0., 0.]])\n",
            "torch.float32\n"
          ]
        }
      ]
    },
    {
      "cell_type": "markdown",
      "source": [
        "### 1로 채운 행렬\n",
        "ones는 1로 가득찬 행렬은 만듬\n",
        "\n",
        "dtype 기본은 torch.float32"
      ],
      "metadata": {
        "id": "UP7ehGUINph2"
      }
    },
    {
      "cell_type": "code",
      "source": [
        "i = torch.ones((5, 3), dtype=torch.int16)\n",
        "print(i)"
      ],
      "metadata": {
        "colab": {
          "base_uri": "https://localhost:8080/"
        },
        "id": "Unjcl7mCNolX",
        "outputId": "a058525b-a844-4503-809f-b2a1b73e107c"
      },
      "execution_count": null,
      "outputs": [
        {
          "output_type": "stream",
          "name": "stdout",
          "text": [
            "tensor([[1, 1, 1],\n",
            "        [1, 1, 1],\n",
            "        [1, 1, 1],\n",
            "        [1, 1, 1],\n",
            "        [1, 1, 1]], dtype=torch.int16)\n"
          ]
        }
      ]
    },
    {
      "cell_type": "markdown",
      "source": [
        "### 랜덤과 시드\n",
        "random과 관련된 함수들\n",
        "* rand(n, m) : 0과 1사이의 숫자 (n x m) 사이즈 행렬\n",
        "* randn(n, m) : 평균이 0이고 std가 1인 (n x m) 사이즈 행렬\n",
        "* randint(low=n, high=m, size=(x, y)) : low부터 hign(미포함)까지 무작위 정수 행렬\n",
        "* randperm(n) : 0부터 n까지(n 미포함) 정수로 이루어진 랜덤 순열\n",
        "\n",
        "random seed\n",
        "\n",
        "`manual_seed(random_seed)`    \n",
        "random seed 값을 고정해서 동일한 세트의 난수를 생성하게 한다."
      ],
      "metadata": {
        "id": "dhcOunygOCG6"
      }
    },
    {
      "cell_type": "code",
      "source": [
        "print(torch.rand(2, 2))\n",
        "print(torch.randn(2, 2))\n",
        "print(torch.randint(low=0, high=10, size=(2, 4)))\n",
        "print(torch.randperm(10))"
      ],
      "metadata": {
        "colab": {
          "base_uri": "https://localhost:8080/"
        },
        "id": "kS0gfqcAS4MS",
        "outputId": "a597f801-f73c-4072-c403-72024625bde1"
      },
      "execution_count": null,
      "outputs": [
        {
          "output_type": "stream",
          "name": "stdout",
          "text": [
            "tensor([[0.6276, 0.7357],\n",
            "        [0.0381, 0.2138]])\n",
            "tensor([[-0.2749,  0.6204],\n",
            "        [-1.9215, -0.9559]])\n",
            "tensor([[4, 4, 3, 5],\n",
            "        [2, 1, 3, 5]])\n",
            "tensor([4, 3, 5, 6, 7, 2, 0, 1, 8, 9])\n"
          ]
        }
      ]
    },
    {
      "cell_type": "code",
      "source": [
        "torch.manual_seed(1729)\n",
        "r1 = torch.rand(2, 2) # r1 = torch.rand(size=(2, 2))\n",
        "print(\"랜덤 tensor 값 :\")\n",
        "print(r1)\n",
        "\n",
        "r2 = torch.rand(2, 2)\n",
        "print(\"\\n다른 랜덤 tensor값 :\")\n",
        "print(r2)\n",
        "\n",
        "torch.manual_seed(1729)\n",
        "r3 = torch.rand(2, 2)\n",
        "print(\"\\nr1과 일치 :\")\n",
        "print(r3)"
      ],
      "metadata": {
        "colab": {
          "base_uri": "https://localhost:8080/"
        },
        "id": "2R5AJFqcQFLj",
        "outputId": "0d68fe87-9113-4c8c-fd07-0b59dde27cf2"
      },
      "execution_count": null,
      "outputs": [
        {
          "output_type": "stream",
          "name": "stdout",
          "text": [
            "랜덤 tensor 값 :\n",
            "tensor([[0.3126, 0.3791],\n",
            "        [0.3087, 0.0736]])\n",
            "\n",
            "다른 랜덤 tensor값 :\n",
            "tensor([[0.4216, 0.0691],\n",
            "        [0.2332, 0.4047]])\n",
            "\n",
            "r1과 일치 :\n",
            "tensor([[0.3126, 0.3791],\n",
            "        [0.3087, 0.0736]])\n"
          ]
        }
      ]
    },
    {
      "cell_type": "markdown",
      "source": [
        "### Reproducibility\n",
        "https://pytorch.org/docs/stable/notes/randomness.html    \n",
        "랜덤 시드를 고정하는 것은 매우 중요하다. 실험 재현을 위한 것으로 많은 부분에서 문제를 일으켰던 부분이다."
      ],
      "metadata": {
        "id": "37CHWaSoRtw5"
      }
    },
    {
      "cell_type": "code",
      "source": [
        "import random\n",
        "\n",
        "random_seed = 1729\n",
        "\n",
        "# Pytorch의 random_seed 고정\n",
        "torch.manual_seed(random_seed)\n",
        "torch.cuda.manual_seed(random_seed)\n",
        "torch.cuda.manual_seed_all(random_seed) # if use multi-gpu\n",
        "\n",
        "torch.backends.cudnn.deterministic = True\n",
        "torch.backends.cudnn.benchmark = False\n",
        "\n",
        "# Numpy의 random_seed 고정\n",
        "np.random.seed(random_seed)\n",
        "\n",
        "# Python의 random_seed 고정\n",
        "random.seed(random_seed)"
      ],
      "metadata": {
        "id": "oCGccoXpR4zT"
      },
      "execution_count": null,
      "outputs": []
    },
    {
      "cell_type": "markdown",
      "source": [
        "### 다양한 기능"
      ],
      "metadata": {
        "id": "LhAF_0HLU35s"
      }
    },
    {
      "cell_type": "code",
      "source": [
        "# 빈 텐서\n",
        "print(torch.empty(4))\n",
        "print(torch.empty(4).size)\n",
        "print(torch.empty((4, 5)))\n",
        "print(torch.empty((4, 5)).size)\n",
        "\n",
        "# 주어진 값으로 채워진 텐서\n",
        "print(torch.full((1, 2) , 3.14))\n",
        "\n",
        "# 단위 행렬\n",
        "print(torch.eye(3))\n",
        "print(torch.eye(5, 3))"
      ],
      "metadata": {
        "colab": {
          "base_uri": "https://localhost:8080/"
        },
        "id": "itlO565lU-s6",
        "outputId": "d1334bac-2430-4229-c9b3-09cbcb9cf745"
      },
      "execution_count": null,
      "outputs": [
        {
          "output_type": "stream",
          "name": "stdout",
          "text": [
            "tensor([-5.4121e-25,  3.3415e-41, -1.5749e-24,  3.3415e-41])\n",
            "<built-in method size of Tensor object at 0x7a9cc7875b70>\n",
            "tensor([[0.0000e+00, 0.0000e+00, 0.0000e+00, 0.0000e+00, 0.0000e+00],\n",
            "        [0.0000e+00, 0.0000e+00, 0.0000e+00, 0.0000e+00, 0.0000e+00],\n",
            "        [1.4013e-45, 0.0000e+00, 0.0000e+00, 0.0000e+00, 0.0000e+00],\n",
            "        [0.0000e+00, 0.0000e+00, 0.0000e+00, 0.0000e+00, 0.0000e+00]])\n",
            "<built-in method size of Tensor object at 0x7a9cc7875b70>\n",
            "tensor([[3.1400, 3.1400]])\n",
            "tensor([[1., 0., 0.],\n",
            "        [0., 1., 0.],\n",
            "        [0., 0., 1.]])\n",
            "tensor([[1., 0., 0.],\n",
            "        [0., 1., 0.],\n",
            "        [0., 0., 1.],\n",
            "        [0., 0., 0.],\n",
            "        [0., 0., 0.]])\n"
          ]
        }
      ]
    },
    {
      "cell_type": "markdown",
      "source": [
        "### 리스트로 행렬만들기\n",
        "리스트의 데이터 타입을 따라간다."
      ],
      "metadata": {
        "id": "52ytmFBuVUUd"
      }
    },
    {
      "cell_type": "code",
      "source": [
        "z = torch.tensor([[1., -1.], [1., -1.]])\n",
        "print(z)\n",
        "print(z.dtype)\n",
        "print(z.size())\n",
        "\n",
        "x = torch.tensor([[1, -1], [1, -1]])\n",
        "print(x)\n",
        "print(x.dtype)"
      ],
      "metadata": {
        "colab": {
          "base_uri": "https://localhost:8080/"
        },
        "id": "Br7CdF-HVeCs",
        "outputId": "b02c7eda-cf81-43f9-996e-e527b90c2443"
      },
      "execution_count": null,
      "outputs": [
        {
          "output_type": "stream",
          "name": "stdout",
          "text": [
            "tensor([[ 1., -1.],\n",
            "        [ 1., -1.]])\n",
            "torch.float32\n",
            "torch.Size([2, 2])\n",
            "tensor([[ 1, -1],\n",
            "        [ 1, -1]])\n",
            "torch.int64\n"
          ]
        }
      ]
    },
    {
      "cell_type": "markdown",
      "source": [
        "### ndarray로 행렬만들기"
      ],
      "metadata": {
        "id": "2XWxJEDaVrk8"
      }
    },
    {
      "cell_type": "code",
      "source": [
        "np_array = np.array([[1, 2, 3], [4, 5, 6]])\n",
        "x = torch.tensor(np_array)\n",
        "print(x)\n",
        "\n",
        "# 인덱싱\n",
        "print(x[1][2])\n",
        "\n",
        "x[0][1] = 8\n",
        "print(x)\n",
        "\n",
        "# 슬라이싱\n",
        "b = x[:, 0:2]\n",
        "print(b)"
      ],
      "metadata": {
        "colab": {
          "base_uri": "https://localhost:8080/"
        },
        "id": "PBehCzcyWGKg",
        "outputId": "4bc879a9-8e51-4fe6-a48d-ba6e64ed8f6c"
      },
      "execution_count": null,
      "outputs": [
        {
          "output_type": "stream",
          "name": "stdout",
          "text": [
            "tensor([[1, 2, 3],\n",
            "        [4, 5, 6]])\n",
            "tensor(6)\n",
            "tensor([[1, 8, 3],\n",
            "        [4, 5, 6]])\n",
            "tensor([[1, 8],\n",
            "        [4, 5]])\n"
          ]
        }
      ]
    },
    {
      "cell_type": "markdown",
      "source": [
        "### torch.eq | torch.equal | torch.allclse\n",
        "* torch.eq : elementwise eq\n",
        "* torch.equal : 두 텐선의 사이즈와 값이 같으면 True, 아니면 False\n",
        "* torch.allclose : 정밀도 이내에서 같은 것으로 봄 (부동 소수점)\n",
        "* torch.ne = torch.not_equal\n",
        "* torch.le = torch.less_equal\n",
        "* torch.ge = torch.greater_equal\n",
        "\n",
        "`torch.allclose(input, other, rtol=1e-05, atol=1e-08, equal_nan=False)`\n",
        "컴퓨터는 부동소수점에 오차가 있다."
      ],
      "metadata": {
        "id": "VZSCwe6hWJky"
      }
    },
    {
      "cell_type": "code",
      "source": [
        "a = torch.tensor([[2, 5], [4, 3]])\n",
        "b = torch.tensor([[2, 8], [2, 3]])\n",
        "\n",
        "print(torch.eq(a, b))\n",
        "print(torch.equal(a, b))\n",
        "print(torch.all(torch.eq(a, b)))"
      ],
      "metadata": {
        "colab": {
          "base_uri": "https://localhost:8080/"
        },
        "id": "PaRybTrkYgEg",
        "outputId": "d5a2d8d3-6689-4856-9427-24a52699f4f0"
      },
      "execution_count": null,
      "outputs": [
        {
          "output_type": "stream",
          "name": "stdout",
          "text": [
            "tensor([[ True, False],\n",
            "        [False,  True]])\n",
            "False\n",
            "tensor(False)\n"
          ]
        }
      ]
    },
    {
      "cell_type": "code",
      "source": [
        "print(torch.allclose(torch.tensor([10000., 1e-07]), torch.tensor([10000.1, 1e-08])))\n",
        "print(torch.allclose(torch.tensor([10000., 1e-08]), torch.tensor([10000.1, 1e-09])))\n"
      ],
      "metadata": {
        "colab": {
          "base_uri": "https://localhost:8080/"
        },
        "id": "0LdNS527YnhT",
        "outputId": "7fed2123-0b9e-4e32-9513-da2ba13d7d8d"
      },
      "execution_count": null,
      "outputs": [
        {
          "output_type": "stream",
          "name": "stdout",
          "text": [
            "False\n",
            "True\n"
          ]
        }
      ]
    },
    {
      "cell_type": "markdown",
      "source": [
        "### walus 연산자\n",
        ":=\n"
      ],
      "metadata": {
        "id": "pXGz3HlZZO5_"
      }
    },
    {
      "cell_type": "code",
      "source": [
        "x = torch.tensor([[1, 2, 3], [4, 5, 6]])\n",
        "print(y:=x[1][2].item())\n",
        "print(type(y))\n",
        "\n",
        "# walus 연산자를 안쓰면\n",
        "y = x[1][2].item()\n",
        "print(y)\n",
        "print(type(y))"
      ],
      "metadata": {
        "colab": {
          "base_uri": "https://localhost:8080/"
        },
        "id": "0AWuIlOxZpGc",
        "outputId": "78974221-d3d2-4587-bf32-b595c88682b2"
      },
      "execution_count": null,
      "outputs": [
        {
          "output_type": "stream",
          "name": "stdout",
          "text": [
            "6\n",
            "<class 'int'>\n",
            "6\n",
            "<class 'int'>\n"
          ]
        }
      ]
    },
    {
      "cell_type": "markdown",
      "source": [
        "### copy tensor\n",
        "* clone : 메모리를 새롭게 할당, 계산 그래프에 계속 상주 -> 연결은 끊어지지 않았다.\n",
        "* detach : 메모리를 공유, 계산 그래프에서 뺌 단 storag를 공유하게 detach로 생성한 Tensor가 변경되면 원본 Tensor도 똑같이 변한다.\n",
        "\n",
        "torch.tensor를 copy하는 방법 중 옳은 것은? https://seducinghyeok.tistory.com/10    \n",
        "https://hongl.tistory.com/363"
      ],
      "metadata": {
        "id": "aDKp0UmYZzZA"
      }
    },
    {
      "cell_type": "code",
      "source": [
        "x = torch.rand(size=(3, 3))\n",
        "print(x)\n",
        "\n",
        "y = x.clone().detach()\n",
        "print(torch.equal(x, y))\n",
        "\n",
        "y = x.detach().clone() # 이것이 좀더 효율적 조금 더 빠름 계산 그래프를 먼저 빼느냐 나중에 빼느냐에 따라 옮기는 양이 다르다.\n",
        "print(torch.equal(x, y))"
      ],
      "metadata": {
        "colab": {
          "base_uri": "https://localhost:8080/"
        },
        "id": "NYCKYUtlaZzZ",
        "outputId": "c0843a1f-8c79-470e-82af-a11d79b33a89"
      },
      "execution_count": null,
      "outputs": [
        {
          "output_type": "stream",
          "name": "stdout",
          "text": [
            "tensor([[0.9927, 0.4128, 0.5938],\n",
            "        [0.6128, 0.1519, 0.0453],\n",
            "        [0.5035, 0.9978, 0.3884]])\n",
            "True\n",
            "True\n"
          ]
        }
      ]
    },
    {
      "cell_type": "markdown",
      "source": [
        "#### 성능 측정 방법\n",
        "`!pip install perfplot`"
      ],
      "metadata": {
        "id": "q2OdU2YHbHzm"
      }
    },
    {
      "cell_type": "code",
      "source": [
        "!pip install perfplot"
      ],
      "metadata": {
        "colab": {
          "base_uri": "https://localhost:8080/"
        },
        "id": "Kmz38FpSbPC5",
        "outputId": "447eb498-46c4-4c26-fe0c-eabbea463120"
      },
      "execution_count": null,
      "outputs": [
        {
          "output_type": "stream",
          "name": "stdout",
          "text": [
            "Collecting perfplot\n",
            "  Downloading perfplot-0.10.2-py3-none-any.whl (21 kB)\n",
            "Requirement already satisfied: matplotlib in /usr/local/lib/python3.10/dist-packages (from perfplot) (3.7.1)\n",
            "Collecting matplotx (from perfplot)\n",
            "  Downloading matplotx-0.3.10-py3-none-any.whl (25 kB)\n",
            "Requirement already satisfied: numpy in /usr/local/lib/python3.10/dist-packages (from perfplot) (1.23.5)\n",
            "Requirement already satisfied: rich in /usr/local/lib/python3.10/dist-packages (from perfplot) (13.5.2)\n",
            "Requirement already satisfied: contourpy>=1.0.1 in /usr/local/lib/python3.10/dist-packages (from matplotlib->perfplot) (1.1.0)\n",
            "Requirement already satisfied: cycler>=0.10 in /usr/local/lib/python3.10/dist-packages (from matplotlib->perfplot) (0.11.0)\n",
            "Requirement already satisfied: fonttools>=4.22.0 in /usr/local/lib/python3.10/dist-packages (from matplotlib->perfplot) (4.42.1)\n",
            "Requirement already satisfied: kiwisolver>=1.0.1 in /usr/local/lib/python3.10/dist-packages (from matplotlib->perfplot) (1.4.4)\n",
            "Requirement already satisfied: packaging>=20.0 in /usr/local/lib/python3.10/dist-packages (from matplotlib->perfplot) (23.1)\n",
            "Requirement already satisfied: pillow>=6.2.0 in /usr/local/lib/python3.10/dist-packages (from matplotlib->perfplot) (9.4.0)\n",
            "Requirement already satisfied: pyparsing>=2.3.1 in /usr/local/lib/python3.10/dist-packages (from matplotlib->perfplot) (3.1.1)\n",
            "Requirement already satisfied: python-dateutil>=2.7 in /usr/local/lib/python3.10/dist-packages (from matplotlib->perfplot) (2.8.2)\n",
            "Requirement already satisfied: markdown-it-py>=2.2.0 in /usr/local/lib/python3.10/dist-packages (from rich->perfplot) (3.0.0)\n",
            "Requirement already satisfied: pygments<3.0.0,>=2.13.0 in /usr/local/lib/python3.10/dist-packages (from rich->perfplot) (2.16.1)\n",
            "Requirement already satisfied: mdurl~=0.1 in /usr/local/lib/python3.10/dist-packages (from markdown-it-py>=2.2.0->rich->perfplot) (0.1.2)\n",
            "Requirement already satisfied: six>=1.5 in /usr/local/lib/python3.10/dist-packages (from python-dateutil>=2.7->matplotlib->perfplot) (1.16.0)\n",
            "Installing collected packages: matplotx, perfplot\n",
            "Successfully installed matplotx-0.3.10 perfplot-0.10.2\n"
          ]
        }
      ]
    },
    {
      "cell_type": "code",
      "source": [
        "import perfplot\n",
        "\n",
        "perfplot.show(\n",
        "    setup=lambda n: torch.randn(n),\n",
        "    kernels=[\n",
        "        lambda a: a.new_tensor(a),\n",
        "        lambda a: a.clone().detach(),\n",
        "        lambda a: torch.empty_like(a).copy_(a),\n",
        "        lambda a: torch.tensor(a),\n",
        "        lambda a: a.detach().clone(),\n",
        "    ],\n",
        "    labels = [\"new_tensor()\", \"clone().detach()\", \"empty_like().copy()\", \"tensor()\", \"detach().clone()\"],\n",
        "    n_range = [2 ** k for k in range(15)],\n",
        "    xlabel=\"len(a)\",\n",
        "    logx=False,\n",
        "    logy=False,\n",
        "    title=\"Timing comparison for copying a pytorch tensor\"\n",
        ")"
      ],
      "metadata": {
        "colab": {
          "base_uri": "https://localhost:8080/",
          "height": 719,
          "referenced_widgets": [
            "06928eab76e840deadcec9e828461745",
            "c6af5ff66ee649149e38932854e22ae8"
          ]
        },
        "id": "CZyfSfnBbV_T",
        "outputId": "fc3d0979-ff85-4e2a-9805-3de6ab22a18d"
      },
      "execution_count": null,
      "outputs": [
        {
          "output_type": "display_data",
          "data": {
            "text/plain": [
              "Output()"
            ],
            "application/vnd.jupyter.widget-view+json": {
              "version_major": 2,
              "version_minor": 0,
              "model_id": "06928eab76e840deadcec9e828461745"
            }
          },
          "metadata": {}
        },
        {
          "output_type": "display_data",
          "data": {
            "text/plain": [
              "<ipython-input-74-9042c1793786>:6: UserWarning: To copy construct from a tensor, it is recommended to use \n",
              "sourceTensor.clone().detach() or sourceTensor.clone().detach().requires_grad_(True), rather than \n",
              "tensor.new_tensor(sourceTensor).\n",
              "  lambda a: a.new_tensor(a),\n"
            ],
            "text/html": [
              "<pre style=\"white-space:pre;overflow-x:auto;line-height:normal;font-family:Menlo,'DejaVu Sans Mono',consolas,'Courier New',monospace\">&lt;ipython-input-74-9042c1793786&gt;:6: UserWarning: To copy construct from a tensor, it is recommended to use \n",
              "sourceTensor.clone().detach() or sourceTensor.clone().detach().requires_grad_(True), rather than \n",
              "tensor.new_tensor(sourceTensor).\n",
              "  lambda a: a.new_tensor(a),\n",
              "</pre>\n"
            ]
          },
          "metadata": {}
        },
        {
          "output_type": "display_data",
          "data": {
            "text/plain": [
              "<ipython-input-74-9042c1793786>:9: UserWarning: To copy construct from a tensor, it is recommended to use \n",
              "sourceTensor.clone().detach() or sourceTensor.clone().detach().requires_grad_(True), rather than \n",
              "torch.tensor(sourceTensor).\n",
              "  lambda a: torch.tensor(a),\n"
            ],
            "text/html": [
              "<pre style=\"white-space:pre;overflow-x:auto;line-height:normal;font-family:Menlo,'DejaVu Sans Mono',consolas,'Courier New',monospace\">&lt;ipython-input-74-9042c1793786&gt;:9: UserWarning: To copy construct from a tensor, it is recommended to use \n",
              "sourceTensor.clone().detach() or sourceTensor.clone().detach().requires_grad_(True), rather than \n",
              "torch.tensor(sourceTensor).\n",
              "  lambda a: torch.tensor(a),\n",
              "</pre>\n"
            ]
          },
          "metadata": {}
        },
        {
          "output_type": "display_data",
          "data": {
            "text/plain": [],
            "text/html": [
              "<pre style=\"white-space:pre;overflow-x:auto;line-height:normal;font-family:Menlo,'DejaVu Sans Mono',consolas,'Courier New',monospace\"></pre>\n"
            ]
          },
          "metadata": {}
        },
        {
          "output_type": "display_data",
          "data": {
            "text/plain": [
              "\n"
            ],
            "text/html": [
              "<pre style=\"white-space:pre;overflow-x:auto;line-height:normal;font-family:Menlo,'DejaVu Sans Mono',consolas,'Courier New',monospace\">\n",
              "</pre>\n"
            ]
          },
          "metadata": {}
        },
        {
          "output_type": "display_data",
          "data": {
            "text/plain": [
              "<Figure size 640x480 with 1 Axes>"
            ],
            "image/png": "[encoded data removed]"
          },
          "metadata": {}
        }
      ]
    },
    {
      "cell_type": "markdown",
      "source": [
        "## 유용한 tensor 기능들"
      ],
      "metadata": {
        "id": "kcwg28c0bZIc"
      }
    },
    {
      "cell_type": "code",
      "source": [
        "original_tensor = torch.tensor([[1, 2], [3, 4]], dtype=torch.float32)\n",
        "\n",
        "# new()를 사용하여 기존 tensor와 동일한 속성을 가진 새로운 tensor 생성\n",
        "print(original_tensor.new(2, 2))\n",
        "print(original_tensor.new_zeros(2, 2))\n",
        "print(original_tensor.new_ones(2, 2))\n",
        "print(original_tensor.new_full((2, 2), fill_value=7.0))\n",
        "\n",
        "# tensor.new_tensor(x) is equivalent to x.clone().detach()"
      ],
      "metadata": {
        "colab": {
          "base_uri": "https://localhost:8080/"
        },
        "id": "Aewo_V45d0PH",
        "outputId": "bfc0e080-e9fc-4f2f-af19-2b4a3aa50040"
      },
      "execution_count": null,
      "outputs": [
        {
          "output_type": "stream",
          "name": "stdout",
          "text": [
            "tensor([[-4.5997e-05,  4.3985e-41],\n",
            "        [-1.1506e-21,  3.3415e-41]])\n",
            "tensor([[0., 0.],\n",
            "        [0., 0.]])\n",
            "tensor([[1., 1.],\n",
            "        [1., 1.]])\n",
            "tensor([[7., 7.],\n",
            "        [7., 7.]])\n"
          ]
        }
      ]
    },
    {
      "cell_type": "code",
      "source": [],
      "metadata": {
        "id": "wAqA2dBveIyN"
      },
      "execution_count": null,
      "outputs": []
    }
  ]
}