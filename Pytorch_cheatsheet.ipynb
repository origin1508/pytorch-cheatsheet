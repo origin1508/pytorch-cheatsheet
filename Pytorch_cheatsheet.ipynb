{
  "nbformat": 4,
  "nbformat_minor": 0,
  "metadata": {
    "colab": {
      "provenance": [],
      "toc_visible": true,
      "gpuType": "T4",
      "authorship_tag": "ABX9TyPnc5InOEPR0yAoFJNt7l4t",
      "include_colab_link": true
    },
    "kernelspec": {
      "name": "python3",
      "display_name": "Python 3"
    },
    "language_info": {
      "name": "python"
    },
    "widgets": {
      "application/vnd.jupyter.widget-state+json": {
        "55fb9be38a434541973be4fdccfa176b": {
          "model_module": "@jupyter-widgets/output",
          "model_name": "OutputModel",
          "model_module_version": "1.0.0",
          "state": {
            "_dom_classes": [],
            "_model_module": "@jupyter-widgets/output",
            "_model_module_version": "1.0.0",
            "_model_name": "OutputModel",
            "_view_count": null,
            "_view_module": "@jupyter-widgets/output",
            "_view_module_version": "1.0.0",
            "_view_name": "OutputView",
            "layout": "IPY_MODEL_e33c336eb3c340e395c254b51670b99b",
            "msg_id": "",
            "outputs": [
              {
                "output_type": "display_data",
                "data": {
                  "text/plain": "Overall \u001b[38;2;114;156;31m━━━━━━━━━━━━━━━━━━━━━━━━━━━━━━━━━━━━━━━━\u001b[0m \u001b[35m100%\u001b[0m \u001b[36m0:00:00\u001b[0m\nKernels \u001b[38;5;237m━━━━━━━━━━━━━━━━━━━━━━━━━━━━━━━━━━━━━━━━\u001b[0m \u001b[35m  0%\u001b[0m \u001b[36m0:00:01\u001b[0m\n",
                  "text/html": "<pre style=\"white-space:pre;overflow-x:auto;line-height:normal;font-family:Menlo,'DejaVu Sans Mono',consolas,'Courier New',monospace\">Overall <span style=\"color: #729c1f; text-decoration-color: #729c1f\">━━━━━━━━━━━━━━━━━━━━━━━━━━━━━━━━━━━━━━━━</span> <span style=\"color: #800080; text-decoration-color: #800080\">100%</span> <span style=\"color: #008080; text-decoration-color: #008080\">0:00:00</span>\nKernels <span style=\"color: #3a3a3a; text-decoration-color: #3a3a3a\">━━━━━━━━━━━━━━━━━━━━━━━━━━━━━━━━━━━━━━━━</span> <span style=\"color: #800080; text-decoration-color: #800080\">  0%</span> <span style=\"color: #008080; text-decoration-color: #008080\">0:00:01</span>\n</pre>\n"
                },
                "metadata": {}
              }
            ]
          }
        },
        "e33c336eb3c340e395c254b51670b99b": {
          "model_module": "@jupyter-widgets/base",
          "model_name": "LayoutModel",
          "model_module_version": "1.2.0",
          "state": {
            "_model_module": "@jupyter-widgets/base",
            "_model_module_version": "1.2.0",
            "_model_name": "LayoutModel",
            "_view_count": null,
            "_view_module": "@jupyter-widgets/base",
            "_view_module_version": "1.2.0",
            "_view_name": "LayoutView",
            "align_content": null,
            "align_items": null,
            "align_self": null,
            "border": null,
            "bottom": null,
            "display": null,
            "flex": null,
            "flex_flow": null,
            "grid_area": null,
            "grid_auto_columns": null,
            "grid_auto_flow": null,
            "grid_auto_rows": null,
            "grid_column": null,
            "grid_gap": null,
            "grid_row": null,
            "grid_template_areas": null,
            "grid_template_columns": null,
            "grid_template_rows": null,
            "height": null,
            "justify_content": null,
            "justify_items": null,
            "left": null,
            "margin": null,
            "max_height": null,
            "max_width": null,
            "min_height": null,
            "min_width": null,
            "object_fit": null,
            "object_position": null,
            "order": null,
            "overflow": null,
            "overflow_x": null,
            "overflow_y": null,
            "padding": null,
            "right": null,
            "top": null,
            "visibility": null,
            "width": null
          }
        }
      }
    },
    "accelerator": "GPU"
  },
  "cells": [
    {
      "cell_type": "markdown",
      "metadata": {
        "id": "view-in-github",
        "colab_type": "text"
      },
      "source": [
        "<a href=\"https://colab.research.google.com/github/origin1508/pytorch-cheatsheet/blob/main/Pytorch_cheatsheet.ipynb\" target=\"_parent\"><img src=\"https://colab.research.google.com/assets/colab-badge.svg\" alt=\"Open In Colab\"/></a>"
      ]
    },
    {
      "cell_type": "markdown",
      "source": [
        "## 코랩 단축키\n",
        "|단축키|명령|\n",
        "|---|---|\n",
        "|Ctrl + M H|단축키 보기|\n",
        "|Ctrl + Enter|초점이 맞춰진 셀 실행|\n",
        "|Shift + Enter|셀 실행후 다음셀로|\n",
        "|Alt + Enter|셀 실행후 새 셀 생성|\n",
        "|Ctrl + M .|런타임 다시 시작|\n",
        "|Ctrl + M B|아래에 코드 셀 삽입|\n",
        "|Ctrl + M A|위에 코드 셀 삽입|\n",
        "|Ctrl + M D|셀 지우기|\n",
        "|Ctrl + M Y|코드 셀로 변경|\n",
        "|Ctrl + M M|마크다운 셀로 변경|\n"
      ],
      "metadata": {
        "id": "EIiwot_rOggo"
      }
    },
    {
      "cell_type": "markdown",
      "source": [
        "## 사전설정\n",
        "* `%matplotlib` : 현재 노트북에 plotting을 하게 해주는 magic command\n",
        "* inline : 노트북 내부에 출력하도록 설정\n",
        "\n",
        "> **magic command**는 IPython 인터프리터에 추가된 특수 명령어. 명령어 앞에 `%`기호를 붙여 사용한다."
      ],
      "metadata": {
        "id": "eA84q7GRI56W"
      }
    },
    {
      "cell_type": "code",
      "source": [
        "%matplotlib inline"
      ],
      "metadata": {
        "id": "xfvzQbigJukX"
      },
      "execution_count": 3,
      "outputs": []
    },
    {
      "cell_type": "code",
      "source": [
        "import torch\n",
        "import torch.nn\n",
        "import torch.nn.functional as F\n",
        "import numpy as np\n",
        "import matplotlib.pyplot as plt"
      ],
      "metadata": {
        "id": "W74HUwZWof2J"
      },
      "execution_count": 4,
      "outputs": []
    },
    {
      "cell_type": "markdown",
      "source": [
        "### 구글 드라이브 mount\n",
        "* %cd : 디렉토리 이동\n",
        "* %ls : 현재 디렉토리의 내용을 확인"
      ],
      "metadata": {
        "id": "yBh3h88sKvR8"
      }
    },
    {
      "cell_type": "code",
      "source": [
        "from google.colab import drive\n",
        "drive.mount(\"/content/drive\")"
      ],
      "metadata": {
        "colab": {
          "base_uri": "https://localhost:8080/"
        },
        "id": "EBVbGBg3Jlu_",
        "outputId": "a9655543-ca35-4ffa-c087-318010cc5a08"
      },
      "execution_count": 5,
      "outputs": [
        {
          "output_type": "stream",
          "name": "stdout",
          "text": [
            "Mounted at /content/drive\n"
          ]
        }
      ]
    },
    {
      "cell_type": "code",
      "source": [
        "%cd /content/drive/MyDrive/Colab Notebooks/\n",
        "%ls"
      ],
      "metadata": {
        "colab": {
          "base_uri": "https://localhost:8080/"
        },
        "id": "o7-BhJiVK2Pj",
        "outputId": "876c90b6-8192-4aaf-cfef-fdf37063031e"
      },
      "execution_count": 6,
      "outputs": [
        {
          "output_type": "stream",
          "name": "stdout",
          "text": [
            "/content/drive/MyDrive/Colab Notebooks\n",
            " MNIST.ipynb                 YOLO.ipynb\n",
            "'one-hot encoding.ipynb'     yolov5_custom_training-2.ipynb\n",
            "'Pytorch cheatsheet.ipynb'  '파일입출력_2.ipynb의 사본'\n"
          ]
        }
      ]
    },
    {
      "cell_type": "markdown",
      "source": [
        "## 코랩을 써야하는 이유\n",
        "torch.cuda.is_available()    \n",
        "그래픽 카드를 써야하기 때문이다. GPU를 사용하면 병렬 연산이 가능하기 때문이다.\n"
      ],
      "metadata": {
        "id": "3aLbt-cNccnv"
      }
    },
    {
      "cell_type": "markdown",
      "source": [
        "### GPU 사용\n",
        "런타임 유형 변경 -> 하드웨어 가속기 T4 선택"
      ],
      "metadata": {
        "id": "mgtPUUsLnaLK"
      }
    },
    {
      "cell_type": "code",
      "source": [
        "device = torch.device(\"cuda\" if torch.cuda.is_available() else \"cpu\")\n",
        "print(device)"
      ],
      "metadata": {
        "colab": {
          "base_uri": "https://localhost:8080/"
        },
        "id": "JGvGc5oHn_zX",
        "outputId": "095b4cf5-4633-4524-8509-e91398ef5ae3"
      },
      "execution_count": 7,
      "outputs": [
        {
          "output_type": "stream",
          "name": "stdout",
          "text": [
            "cuda\n"
          ]
        }
      ]
    },
    {
      "cell_type": "code",
      "source": [
        "### shape, dtype, device\n",
        "tensor = torch.rand(3, 4)\n",
        "\n",
        "print(f\"Shape of tensor: {tensor.shape}\")\n",
        "print(f\"Datatype of tensor: {tensor.dtype}\")\n",
        "print(f\"Device tensor is stored on: {tensor.device}\")\n",
        "print(f\"Number of dimension: {tensor.ndim}\")"
      ],
      "metadata": {
        "colab": {
          "base_uri": "https://localhost:8080/"
        },
        "id": "PUv42hJ7dWH_",
        "outputId": "9512509d-ace4-4f41-c831-6cb8944815ea"
      },
      "execution_count": 8,
      "outputs": [
        {
          "output_type": "stream",
          "name": "stdout",
          "text": [
            "Shape of tensor: torch.Size([3, 4])\n",
            "Datatype of tensor: torch.float32\n",
            "Device tensor is stored on: cpu\n",
            "Number of dimension: 2\n"
          ]
        }
      ]
    },
    {
      "cell_type": "markdown",
      "source": [
        "## Pytorch\n",
        "\"딥러닝 프레임워크\" = 딥러닝 모델을 쉽게 만들고, 사용하게 해주는 라이브러리\n",
        "\n",
        " >[소개 원문](https://velog.io/@agzg/PYTORCH%ED%8C%8C%EC%9D%B4%ED%86%A0%EC%B9%98-%EC%82%AC%EC%9A%A9%ED%95%98%EA%B8%B0)    \n",
        " 텐서플로는 연산 그래프를 먼저 만들고 실제 연산할 때 값을 전달하여 결과를 얻는 **Define and Run**방식이고, 파이토치는 그래프를 만듦과 동시에 값이 할당 되는 **Define by Run**방식이다.\n",
        "\n",
        "파이토치 뿐만아니라 텐서플로우도 배워야 한다.(Jax도 알아보는 것도 좋다)"
      ],
      "metadata": {
        "id": "mDlPDHEtMKt0"
      }
    },
    {
      "cell_type": "markdown",
      "source": [
        "###  Pytorch 시작하기"
      ],
      "metadata": {
        "id": "pWdebIsiqjqy"
      }
    },
    {
      "cell_type": "code",
      "source": [
        "import numpy as np\n",
        "import torch"
      ],
      "metadata": {
        "id": "eI6VbQlUNDgU"
      },
      "execution_count": 9,
      "outputs": []
    },
    {
      "cell_type": "code",
      "source": [
        "print(torch.__version__)"
      ],
      "metadata": {
        "colab": {
          "base_uri": "https://localhost:8080/"
        },
        "id": "fAut1CaoNEoW",
        "outputId": "7cbbc77d-5adf-49fc-84c4-5e0f69c99825"
      },
      "execution_count": 10,
      "outputs": [
        {
          "output_type": "stream",
          "name": "stdout",
          "text": [
            "2.0.1+cu118\n"
          ]
        }
      ]
    },
    {
      "cell_type": "markdown",
      "source": [
        "### Tensor\n",
        "\n",
        "* 행렬\n",
        "  * 정의: 숫자들을 일정한 모양(행과 열)으로 배치한 것\n",
        "  * Tensors(Pytorch)\n",
        "  * Ndarrays(Numpy)"
      ],
      "metadata": {
        "id": "Yxis-Lp6quPo"
      }
    },
    {
      "cell_type": "markdown",
      "source": [
        "#### 영행렬\n",
        "0으로 채워진 행렬 만들기\n",
        "\n",
        "파이토치의 기본 데이터 타입은 32비트 부동소수점"
      ],
      "metadata": {
        "id": "PnfB7_G6NbKh"
      }
    },
    {
      "cell_type": "code",
      "source": [
        "z = torch.zeros(5, 3)\n",
        "print(z)\n",
        "print(z.dtype)"
      ],
      "metadata": {
        "colab": {
          "base_uri": "https://localhost:8080/"
        },
        "id": "zlLC08cTNHqM",
        "outputId": "2ecf080a-a0ed-453b-ac66-11595ceec6a3"
      },
      "execution_count": 11,
      "outputs": [
        {
          "output_type": "stream",
          "name": "stdout",
          "text": [
            "tensor([[0., 0., 0.],\n",
            "        [0., 0., 0.],\n",
            "        [0., 0., 0.],\n",
            "        [0., 0., 0.],\n",
            "        [0., 0., 0.]])\n",
            "torch.float32\n"
          ]
        }
      ]
    },
    {
      "cell_type": "markdown",
      "source": [
        "#### 1로 채운 행렬\n",
        "ones는 1로 가득찬 행렬은 만듬\n",
        "\n",
        "dtype 기본은 torch.float32"
      ],
      "metadata": {
        "id": "UP7ehGUINph2"
      }
    },
    {
      "cell_type": "code",
      "source": [
        "i = torch.ones((5, 3), dtype=torch.int16)\n",
        "print(i)"
      ],
      "metadata": {
        "colab": {
          "base_uri": "https://localhost:8080/"
        },
        "id": "Unjcl7mCNolX",
        "outputId": "1d9fc3c9-ddc6-470b-d4e6-2183979f4a82"
      },
      "execution_count": 12,
      "outputs": [
        {
          "output_type": "stream",
          "name": "stdout",
          "text": [
            "tensor([[1, 1, 1],\n",
            "        [1, 1, 1],\n",
            "        [1, 1, 1],\n",
            "        [1, 1, 1],\n",
            "        [1, 1, 1]], dtype=torch.int16)\n"
          ]
        }
      ]
    },
    {
      "cell_type": "markdown",
      "source": [
        "### 랜덤과 시드\n",
        "random과 관련된 함수들\n",
        "* rand(n, m) : 0과 1사이의 숫자 (n x m) 사이즈 행렬\n",
        "* randn(n, m) : 평균이 0이고 std가 1인 (n x m) 사이즈 행렬\n",
        "* randint(low=n, high=m, size=(x, y)) : low부터 hign(미포함)까지 무작위 정수 행렬\n",
        "* randperm(n) : 0부터 n까지(n 미포함) 정수로 이루어진 랜덤 순열\n",
        "\n",
        "random seed\n",
        "\n",
        "`manual_seed(random_seed)`    \n",
        "random seed 값을 고정해서 동일한 세트의 난수를 생성하게 한다."
      ],
      "metadata": {
        "id": "dhcOunygOCG6"
      }
    },
    {
      "cell_type": "code",
      "source": [
        "print(torch.rand(2, 2))\n",
        "print(torch.randn(2, 2))\n",
        "print(torch.randint(low=0, high=10, size=(2, 4)))\n",
        "print(torch.randperm(10))"
      ],
      "metadata": {
        "colab": {
          "base_uri": "https://localhost:8080/"
        },
        "id": "kS0gfqcAS4MS",
        "outputId": "6662f102-895f-4015-8309-760063659c3c"
      },
      "execution_count": 13,
      "outputs": [
        {
          "output_type": "stream",
          "name": "stdout",
          "text": [
            "tensor([[0.3657, 0.2397],\n",
            "        [0.9091, 0.5172]])\n",
            "tensor([[0.4861, 0.5553],\n",
            "        [1.0600, 1.4487]])\n",
            "tensor([[9, 6, 1, 9],\n",
            "        [3, 0, 8, 6]])\n",
            "tensor([7, 4, 2, 9, 8, 0, 5, 3, 1, 6])\n"
          ]
        }
      ]
    },
    {
      "cell_type": "code",
      "source": [
        "torch.manual_seed(1729)\n",
        "r1 = torch.rand(2, 2) # r1 = torch.rand(size=(2, 2))\n",
        "print(\"랜덤 tensor 값 :\")\n",
        "print(r1)\n",
        "\n",
        "r2 = torch.rand(2, 2)\n",
        "print(\"\\n다른 랜덤 tensor값 :\")\n",
        "print(r2)\n",
        "\n",
        "torch.manual_seed(1729)\n",
        "r3 = torch.rand(2, 2)\n",
        "print(\"\\nr1과 일치 :\")\n",
        "print(r3)"
      ],
      "metadata": {
        "colab": {
          "base_uri": "https://localhost:8080/"
        },
        "id": "2R5AJFqcQFLj",
        "outputId": "0a906a16-103e-47c4-cbbf-6e5e7ea1a58d"
      },
      "execution_count": 14,
      "outputs": [
        {
          "output_type": "stream",
          "name": "stdout",
          "text": [
            "랜덤 tensor 값 :\n",
            "tensor([[0.3126, 0.3791],\n",
            "        [0.3087, 0.0736]])\n",
            "\n",
            "다른 랜덤 tensor값 :\n",
            "tensor([[0.4216, 0.0691],\n",
            "        [0.2332, 0.4047]])\n",
            "\n",
            "r1과 일치 :\n",
            "tensor([[0.3126, 0.3791],\n",
            "        [0.3087, 0.0736]])\n"
          ]
        }
      ]
    },
    {
      "cell_type": "markdown",
      "source": [
        "#### Reproducibility\n",
        "https://pytorch.org/docs/stable/notes/randomness.html    \n",
        "랜덤 시드를 고정하는 것은 매우 중요하다. 실험 재현을 위한 것으로 많은 부분에서 문제를 일으켰던 부분이다."
      ],
      "metadata": {
        "id": "37CHWaSoRtw5"
      }
    },
    {
      "cell_type": "code",
      "source": [
        "import random\n",
        "\n",
        "random_seed = 1729\n",
        "\n",
        "# Pytorch의 random_seed 고정\n",
        "torch.manual_seed(random_seed)\n",
        "torch.cuda.manual_seed(random_seed)\n",
        "torch.cuda.manual_seed_all(random_seed) # if use multi-gpu\n",
        "\n",
        "torch.backends.cudnn.deterministic = True\n",
        "torch.backends.cudnn.benchmark = False\n",
        "\n",
        "# Numpy의 random_seed 고정\n",
        "np.random.seed(random_seed)\n",
        "\n",
        "# Python의 random_seed 고정\n",
        "random.seed(random_seed)"
      ],
      "metadata": {
        "id": "oCGccoXpR4zT"
      },
      "execution_count": 15,
      "outputs": []
    },
    {
      "cell_type": "markdown",
      "source": [
        "### 다양한 기능"
      ],
      "metadata": {
        "id": "LhAF_0HLU35s"
      }
    },
    {
      "cell_type": "code",
      "source": [
        "# 빈 텐서\n",
        "print(torch.empty(4))\n",
        "print(torch.empty(4).size)\n",
        "print(torch.empty((4, 5)))\n",
        "print(torch.empty((4, 5)).size)\n",
        "\n",
        "# 주어진 값으로 채워진 텐서\n",
        "print(torch.full((1, 2) , 3.14))\n",
        "\n",
        "# 단위 행렬\n",
        "print(torch.eye(3))\n",
        "print(torch.eye(5, 3))"
      ],
      "metadata": {
        "colab": {
          "base_uri": "https://localhost:8080/"
        },
        "id": "itlO565lU-s6",
        "outputId": "00f6218c-f5d3-41c5-a834-53afa6adb715"
      },
      "execution_count": 16,
      "outputs": [
        {
          "output_type": "stream",
          "name": "stdout",
          "text": [
            "tensor([-3.1643e-37,  3.0785e-41, -3.1651e-37,  3.0785e-41])\n",
            "<built-in method size of Tensor object at 0x7fcaffa33dd0>\n",
            "tensor([[-3.1596e-37,  3.0785e-41,  2.7019e-24,  4.5843e-41,  8.9683e-44],\n",
            "        [ 0.0000e+00,  1.1210e-43,  0.0000e+00, -2.9770e+19,  3.0789e-41],\n",
            "        [ 1.4013e-45,  0.0000e+00,  1.4013e-44,  0.0000e+00,  0.0000e+00],\n",
            "        [ 0.0000e+00,  1.4013e-45,  0.0000e+00,  0.0000e+00,  0.0000e+00]])\n",
            "<built-in method size of Tensor object at 0x7fcaffa33dd0>\n",
            "tensor([[3.1400, 3.1400]])\n",
            "tensor([[1., 0., 0.],\n",
            "        [0., 1., 0.],\n",
            "        [0., 0., 1.]])\n",
            "tensor([[1., 0., 0.],\n",
            "        [0., 1., 0.],\n",
            "        [0., 0., 1.],\n",
            "        [0., 0., 0.],\n",
            "        [0., 0., 0.]])\n"
          ]
        }
      ]
    },
    {
      "cell_type": "markdown",
      "source": [
        "### Type casting\n"
      ],
      "metadata": {
        "id": "eqgps-perSxO"
      }
    },
    {
      "cell_type": "markdown",
      "source": [
        "#### 리스트로 행렬만들기\n",
        "리스트의 데이터 타입을 따라간다."
      ],
      "metadata": {
        "id": "52ytmFBuVUUd"
      }
    },
    {
      "cell_type": "code",
      "source": [
        "z = torch.tensor([[1., -1.], [1., -1.]])\n",
        "print(z)\n",
        "print(z.dtype)\n",
        "print(z.size())\n",
        "\n",
        "x = torch.tensor([[1, -1], [1, -1]])\n",
        "print(x)\n",
        "print(x.dtype)"
      ],
      "metadata": {
        "colab": {
          "base_uri": "https://localhost:8080/"
        },
        "id": "Br7CdF-HVeCs",
        "outputId": "a4b978c5-1137-44d4-f607-7ac3345255bb"
      },
      "execution_count": 17,
      "outputs": [
        {
          "output_type": "stream",
          "name": "stdout",
          "text": [
            "tensor([[ 1., -1.],\n",
            "        [ 1., -1.]])\n",
            "torch.float32\n",
            "torch.Size([2, 2])\n",
            "tensor([[ 1, -1],\n",
            "        [ 1, -1]])\n",
            "torch.int64\n"
          ]
        }
      ]
    },
    {
      "cell_type": "markdown",
      "source": [
        "#### ndarray로 행렬만들기"
      ],
      "metadata": {
        "id": "2XWxJEDaVrk8"
      }
    },
    {
      "cell_type": "code",
      "source": [
        "np_array = np.array([[1, 2, 3], [4, 5, 6]])\n",
        "x = torch.tensor(np_array)\n",
        "print(x)\n",
        "\n",
        "# 인덱싱\n",
        "print(x[1][2])\n",
        "\n",
        "x[0][1] = 8\n",
        "print(x)\n",
        "\n",
        "# 슬라이싱\n",
        "b = x[:, 0:2]\n",
        "print(b)"
      ],
      "metadata": {
        "colab": {
          "base_uri": "https://localhost:8080/"
        },
        "id": "PBehCzcyWGKg",
        "outputId": "0cc178c1-bf08-43f5-ce95-d215b96171b6"
      },
      "execution_count": 18,
      "outputs": [
        {
          "output_type": "stream",
          "name": "stdout",
          "text": [
            "tensor([[1, 2, 3],\n",
            "        [4, 5, 6]])\n",
            "tensor(6)\n",
            "tensor([[1, 8, 3],\n",
            "        [4, 5, 6]])\n",
            "tensor([[1, 8],\n",
            "        [4, 5]])\n"
          ]
        }
      ]
    },
    {
      "cell_type": "code",
      "source": [
        "n = np.ones(5)\n",
        "t = torch.from_numpy(n) # 또 다른 방법\n",
        "np.add(n, 1, out=n) # numpy로 만든 행렬에 1을 더했을 때 torch로 변환 값도 바뀌게 된다.\n",
        "print(f\"t: {t}\")\n",
        "print(f\"n: {n}\")\n",
        "\n",
        "a = np.array([1, 2, 3])\n",
        "b = torch.as_tensor(a)\n",
        "a[0] = 99\n",
        "print(b)\n",
        "\n",
        "# x_np = torch.from_numpy(np_array)\n",
        "# np_array = x_np.numpy() # 다시 되돌리기"
      ],
      "metadata": {
        "colab": {
          "base_uri": "https://localhost:8080/"
        },
        "id": "2fVKk6Purj3v",
        "outputId": "f61acb24-abcd-4af4-c042-16faeb5476be"
      },
      "execution_count": 29,
      "outputs": [
        {
          "output_type": "stream",
          "name": "stdout",
          "text": [
            "t: tensor([2., 2., 2., 2., 2.], dtype=torch.float64)\n",
            "n: [2. 2. 2. 2. 2.]\n",
            "tensor([99,  2,  3])\n"
          ]
        }
      ]
    },
    {
      "cell_type": "markdown",
      "source": [
        "### torch.eq | torch.equal | torch.allclse\n",
        "* torch.eq : elementwise eq\n",
        "* torch.equal : 두 텐선의 사이즈와 값이 같으면 True, 아니면 False\n",
        "* torch.allclose : 정밀도 이내에서 같은 것으로 봄 (부동 소수점)\n",
        "* torch.ne = torch.not_equal\n",
        "* torch.le = torch.less_equal\n",
        "* torch.ge = torch.greater_equal\n",
        "\n",
        "* `torch.allclose(input, other, rtol=1e-05, atol=1e-08, equal_nan=False)`\n",
        "  * 컴퓨터는 부동소수점만드는데 오차가 발생한다. allclose를 이용해서 오차 범위 내에만 있으면 같은 것으로 취급할 수 한다."
      ],
      "metadata": {
        "id": "VZSCwe6hWJky"
      }
    },
    {
      "cell_type": "code",
      "source": [
        "a = torch.tensor([[2, 5], [4, 3]])\n",
        "b = torch.tensor([[2, 8], [2, 3]])\n",
        "\n",
        "print(torch.eq(a, b))\n",
        "print(torch.equal(a, b))\n",
        "print(torch.all(torch.eq(a, b)))"
      ],
      "metadata": {
        "colab": {
          "base_uri": "https://localhost:8080/"
        },
        "id": "PaRybTrkYgEg",
        "outputId": "91e2343c-ac92-4fd5-acb2-515375c9c6f4"
      },
      "execution_count": 19,
      "outputs": [
        {
          "output_type": "stream",
          "name": "stdout",
          "text": [
            "tensor([[ True, False],\n",
            "        [False,  True]])\n",
            "False\n",
            "tensor(False)\n"
          ]
        }
      ]
    },
    {
      "cell_type": "code",
      "source": [
        "print(torch.allclose(torch.tensor([10000., 1e-07]), torch.tensor([10000.1, 1e-08])))\n",
        "print(torch.allclose(torch.tensor([10000., 1e-08]), torch.tensor([10000.1, 1e-09])))\n"
      ],
      "metadata": {
        "colab": {
          "base_uri": "https://localhost:8080/"
        },
        "id": "0LdNS527YnhT",
        "outputId": "47a0e5d3-2805-436e-db56-001c2a130256"
      },
      "execution_count": 20,
      "outputs": [
        {
          "output_type": "stream",
          "name": "stdout",
          "text": [
            "False\n",
            "True\n"
          ]
        }
      ]
    },
    {
      "cell_type": "markdown",
      "source": [
        "### walus 연산자\n",
        ":=\n"
      ],
      "metadata": {
        "id": "pXGz3HlZZO5_"
      }
    },
    {
      "cell_type": "code",
      "source": [
        "x = torch.tensor([[1, 2, 3], [4, 5, 6]])\n",
        "print(x)\n",
        "# walus 연산자 연습\n",
        "print(y:=x[1][2].item()) # tensor 값을 Python 숫자로 반환\n",
        "print(type(y))\n",
        "\n",
        "# walus 연산자를 안쓰면\n",
        "y = x[1][2].item()\n",
        "print(y)\n",
        "print(type(y))"
      ],
      "metadata": {
        "colab": {
          "base_uri": "https://localhost:8080/"
        },
        "id": "0AWuIlOxZpGc",
        "outputId": "da570f26-e140-4f37-db89-84ac33cac08d"
      },
      "execution_count": 32,
      "outputs": [
        {
          "output_type": "stream",
          "name": "stdout",
          "text": [
            "tensor([[1, 2, 3],\n",
            "        [4, 5, 6]])\n",
            "6\n",
            "<class 'int'>\n",
            "6\n",
            "<class 'int'>\n"
          ]
        }
      ]
    },
    {
      "cell_type": "markdown",
      "source": [
        "### copy tensor\n",
        "* clone : 메모리를 새롭게 할당, 계산 그래프에 계속 상주 -> 연결은 끊어지지 않았다.\n",
        "* detach : 메모리를 공유, 계산 그래프에서 뺌 단 storag를 공유하게 detach로 생성한 Tensor가 변경되면 원본 Tensor도 똑같이 변한다.\n",
        "\n",
        "torch.tensor를 copy하는 방법 중 옳은 것은? https://seducinghyeok.tistory.com/10    \n",
        "https://hongl.tistory.com/363"
      ],
      "metadata": {
        "id": "aDKp0UmYZzZA"
      }
    },
    {
      "cell_type": "code",
      "source": [
        "x = torch.rand(size=(3, 3))\n",
        "print(x)\n",
        "\n",
        "y = x.clone().detach()\n",
        "print(torch.equal(x, y))\n",
        "\n",
        "y = x.detach().clone() # 이것이 좀더 효율적 조금 더 빠름 계산 그래프를 먼저 빼느냐 나중에 빼느냐에 따라 옮기는 양이 다르다.\n",
        "print(torch.equal(x, y))"
      ],
      "metadata": {
        "colab": {
          "base_uri": "https://localhost:8080/"
        },
        "id": "NYCKYUtlaZzZ",
        "outputId": "7df30796-47a1-4b42-e96e-0983356dcd2d"
      },
      "execution_count": 34,
      "outputs": [
        {
          "output_type": "stream",
          "name": "stdout",
          "text": [
            "tensor([[0.3358, 0.7732, 0.2653],\n",
            "        [0.7424, 0.1158, 0.8747],\n",
            "        [0.0606, 0.4325, 0.7362]])\n",
            "True\n",
            "True\n"
          ]
        }
      ]
    },
    {
      "cell_type": "code",
      "source": [
        "# 비추천 warning msg 확인\n",
        "y = x.new_tensor(x)\n",
        "print(torch.equal(x, y))\n",
        "\n",
        "# 굳이?\n",
        "y = torch.empty_like(x).copy_(x)\n",
        "print(torch.equal(x, y))"
      ],
      "metadata": {
        "colab": {
          "base_uri": "https://localhost:8080/"
        },
        "id": "83b6H8mWtYds",
        "outputId": "be551acd-fc33-41b2-be92-2b718d2a34f5"
      },
      "execution_count": 38,
      "outputs": [
        {
          "output_type": "stream",
          "name": "stdout",
          "text": [
            "True\n",
            "True\n"
          ]
        },
        {
          "output_type": "stream",
          "name": "stderr",
          "text": [
            "<ipython-input-38-b122e5ccbfd7>:2: UserWarning: To copy construct from a tensor, it is recommended to use sourceTensor.clone().detach() or sourceTensor.clone().detach().requires_grad_(True), rather than tensor.new_tensor(sourceTensor).\n",
            "  y = x.new_tensor(x)\n"
          ]
        }
      ]
    },
    {
      "cell_type": "code",
      "source": [
        "# 깊은복사를 활용하는 방법\n",
        "import copy\n",
        "x = torch.ones(10, requires_grad=True)\n",
        "\n",
        "x_deepcopy = copy.deepcopy(x)\n",
        "\n",
        "print(f\"x : {x}\")\n",
        "print(f\"x_deepcopy : {x_deepcopy}\")"
      ],
      "metadata": {
        "id": "510NZoMftde9"
      },
      "execution_count": null,
      "outputs": []
    },
    {
      "cell_type": "markdown",
      "source": [
        "### 성능 측정 방법"
      ],
      "metadata": {
        "id": "q2OdU2YHbHzm"
      }
    },
    {
      "cell_type": "code",
      "source": [
        "!pip install perfplot"
      ],
      "metadata": {
        "colab": {
          "base_uri": "https://localhost:8080/"
        },
        "id": "Kmz38FpSbPC5",
        "outputId": "4cc1af42-7e13-475c-f28f-9641250baa8f"
      },
      "execution_count": 39,
      "outputs": [
        {
          "output_type": "stream",
          "name": "stdout",
          "text": [
            "Requirement already satisfied: perfplot in /usr/local/lib/python3.10/dist-packages (0.10.2)\n",
            "Requirement already satisfied: matplotlib in /usr/local/lib/python3.10/dist-packages (from perfplot) (3.7.1)\n",
            "Requirement already satisfied: matplotx in /usr/local/lib/python3.10/dist-packages (from perfplot) (0.3.10)\n",
            "Requirement already satisfied: numpy in /usr/local/lib/python3.10/dist-packages (from perfplot) (1.23.5)\n",
            "Requirement already satisfied: rich in /usr/local/lib/python3.10/dist-packages (from perfplot) (13.5.2)\n",
            "Requirement already satisfied: contourpy>=1.0.1 in /usr/local/lib/python3.10/dist-packages (from matplotlib->perfplot) (1.1.0)\n",
            "Requirement already satisfied: cycler>=0.10 in /usr/local/lib/python3.10/dist-packages (from matplotlib->perfplot) (0.11.0)\n",
            "Requirement already satisfied: fonttools>=4.22.0 in /usr/local/lib/python3.10/dist-packages (from matplotlib->perfplot) (4.42.1)\n",
            "Requirement already satisfied: kiwisolver>=1.0.1 in /usr/local/lib/python3.10/dist-packages (from matplotlib->perfplot) (1.4.5)\n",
            "Requirement already satisfied: packaging>=20.0 in /usr/local/lib/python3.10/dist-packages (from matplotlib->perfplot) (23.1)\n",
            "Requirement already satisfied: pillow>=6.2.0 in /usr/local/lib/python3.10/dist-packages (from matplotlib->perfplot) (9.4.0)\n",
            "Requirement already satisfied: pyparsing>=2.3.1 in /usr/local/lib/python3.10/dist-packages (from matplotlib->perfplot) (3.1.1)\n",
            "Requirement already satisfied: python-dateutil>=2.7 in /usr/local/lib/python3.10/dist-packages (from matplotlib->perfplot) (2.8.2)\n",
            "Requirement already satisfied: markdown-it-py>=2.2.0 in /usr/local/lib/python3.10/dist-packages (from rich->perfplot) (3.0.0)\n",
            "Requirement already satisfied: pygments<3.0.0,>=2.13.0 in /usr/local/lib/python3.10/dist-packages (from rich->perfplot) (2.16.1)\n",
            "Requirement already satisfied: mdurl~=0.1 in /usr/local/lib/python3.10/dist-packages (from markdown-it-py>=2.2.0->rich->perfplot) (0.1.2)\n",
            "Requirement already satisfied: six>=1.5 in /usr/local/lib/python3.10/dist-packages (from python-dateutil>=2.7->matplotlib->perfplot) (1.16.0)\n"
          ]
        }
      ]
    },
    {
      "cell_type": "code",
      "source": [
        "import perfplot\n",
        "\n",
        "perfplot.show(\n",
        "    setup=lambda n: torch.randn(n),\n",
        "    kernels=[\n",
        "        lambda a: a.new_tensor(a),\n",
        "        lambda a: a.clone().detach(),\n",
        "        lambda a: torch.empty_like(a).copy_(a),\n",
        "        lambda a: torch.tensor(a),\n",
        "        lambda a: a.detach().clone(),\n",
        "    ],\n",
        "    labels = [\"new_tensor()\", \"clone().detach()\", \"empty_like().copy()\", \"tensor()\", \"detach().clone()\"],\n",
        "    n_range = [2 ** k for k in range(15)],\n",
        "    xlabel=\"len(a)\",\n",
        "    logx=False,\n",
        "    logy=False,\n",
        "    title=\"Timing comparison for copying a pytorch tensor\"\n",
        ")"
      ],
      "metadata": {
        "colab": {
          "base_uri": "https://localhost:8080/",
          "height": 716,
          "referenced_widgets": [
            "55fb9be38a434541973be4fdccfa176b",
            "e33c336eb3c340e395c254b51670b99b"
          ]
        },
        "id": "CZyfSfnBbV_T",
        "outputId": "d73d544b-eec7-458b-e7f2-289450673b9e"
      },
      "execution_count": 40,
      "outputs": [
        {
          "output_type": "display_data",
          "data": {
            "text/plain": [
              "Output()"
            ],
            "application/vnd.jupyter.widget-view+json": {
              "version_major": 2,
              "version_minor": 0,
              "model_id": "55fb9be38a434541973be4fdccfa176b"
            }
          },
          "metadata": {}
        },
        {
          "output_type": "display_data",
          "data": {
            "text/plain": [
              "<ipython-input-40-9042c1793786>:6: UserWarning: To copy construct from a tensor, it is recommended to use \n",
              "sourceTensor.clone().detach() or sourceTensor.clone().detach().requires_grad_(True), rather than \n",
              "tensor.new_tensor(sourceTensor).\n",
              "  lambda a: a.new_tensor(a),\n"
            ],
            "text/html": [
              "<pre style=\"white-space:pre;overflow-x:auto;line-height:normal;font-family:Menlo,'DejaVu Sans Mono',consolas,'Courier New',monospace\">&lt;ipython-input-40-9042c1793786&gt;:6: UserWarning: To copy construct from a tensor, it is recommended to use \n",
              "sourceTensor.clone().detach() or sourceTensor.clone().detach().requires_grad_(True), rather than \n",
              "tensor.new_tensor(sourceTensor).\n",
              "  lambda a: a.new_tensor(a),\n",
              "</pre>\n"
            ]
          },
          "metadata": {}
        },
        {
          "output_type": "display_data",
          "data": {
            "text/plain": [
              "<ipython-input-40-9042c1793786>:9: UserWarning: To copy construct from a tensor, it is recommended to use \n",
              "sourceTensor.clone().detach() or sourceTensor.clone().detach().requires_grad_(True), rather than \n",
              "torch.tensor(sourceTensor).\n",
              "  lambda a: torch.tensor(a),\n"
            ],
            "text/html": [
              "<pre style=\"white-space:pre;overflow-x:auto;line-height:normal;font-family:Menlo,'DejaVu Sans Mono',consolas,'Courier New',monospace\">&lt;ipython-input-40-9042c1793786&gt;:9: UserWarning: To copy construct from a tensor, it is recommended to use \n",
              "sourceTensor.clone().detach() or sourceTensor.clone().detach().requires_grad_(True), rather than \n",
              "torch.tensor(sourceTensor).\n",
              "  lambda a: torch.tensor(a),\n",
              "</pre>\n"
            ]
          },
          "metadata": {}
        },
        {
          "output_type": "display_data",
          "data": {
            "text/plain": [],
            "text/html": [
              "<pre style=\"white-space:pre;overflow-x:auto;line-height:normal;font-family:Menlo,'DejaVu Sans Mono',consolas,'Courier New',monospace\"></pre>\n"
            ]
          },
          "metadata": {}
        },
        {
          "output_type": "display_data",
          "data": {
            "text/plain": [
              "\n"
            ],
            "text/html": [
              "<pre style=\"white-space:pre;overflow-x:auto;line-height:normal;font-family:Menlo,'DejaVu Sans Mono',consolas,'Courier New',monospace\">\n",
              "</pre>\n"
            ]
          },
          "metadata": {}
        },
        {
          "output_type": "display_data",
          "data": {
            "text/plain": [
              "<Figure size 640x480 with 1 Axes>"
            ],
            "image/png": "[encoded data removed]"
          },
          "metadata": {}
        }
      ]
    },
    {
      "cell_type": "markdown",
      "source": [
        "### GPU 사용\n"
      ],
      "metadata": {
        "id": "wAqA2dBveIyN"
      }
    },
    {
      "cell_type": "code",
      "source": [
        "device = torch.device(\"cuda\" if torch.cuda.is_available() else \"cpu\")\n",
        "print(device)"
      ],
      "metadata": {
        "colab": {
          "base_uri": "https://localhost:8080/"
        },
        "id": "3yS-U4j1u96g",
        "outputId": "5600ec55-ac11-4cb7-f82d-94528b93b65e"
      },
      "execution_count": 42,
      "outputs": [
        {
          "output_type": "stream",
          "name": "stdout",
          "text": [
            "cuda\n"
          ]
        }
      ]
    },
    {
      "cell_type": "code",
      "source": [
        "torch.ones([2, 4], dtype=torch.float64, device=device)"
      ],
      "metadata": {
        "colab": {
          "base_uri": "https://localhost:8080/"
        },
        "id": "CWG7ISBRvH7z",
        "outputId": "639d972e-e51a-4c12-a409-c0de7b6854a6"
      },
      "execution_count": 43,
      "outputs": [
        {
          "output_type": "execute_result",
          "data": {
            "text/plain": [
              "tensor([[1., 1., 1., 1.],\n",
              "        [1., 1., 1., 1.]], device='cuda:0', dtype=torch.float64)"
            ]
          },
          "metadata": {},
          "execution_count": 43
        }
      ]
    },
    {
      "cell_type": "code",
      "source": [
        "# to 메서드 이용\n",
        "x = torch.tensor([[1., -1.], [1., -1.]])\n",
        "x.to(device)"
      ],
      "metadata": {
        "colab": {
          "base_uri": "https://localhost:8080/"
        },
        "id": "nlyfYEDnvNij",
        "outputId": "2927dc83-4d05-4ef3-a2df-61eb06b64362"
      },
      "execution_count": 44,
      "outputs": [
        {
          "output_type": "execute_result",
          "data": {
            "text/plain": [
              "tensor([[ 1., -1.],\n",
              "        [ 1., -1.]], device='cuda:0')"
            ]
          },
          "metadata": {},
          "execution_count": 44
        }
      ]
    },
    {
      "cell_type": "code",
      "source": [
        "print(x[0][0].item())"
      ],
      "metadata": {
        "colab": {
          "base_uri": "https://localhost:8080/"
        },
        "id": "g_YFDr5evV4k",
        "outputId": "3c17d2df-7125-4350-d86d-f2c41de52b60"
      },
      "execution_count": 46,
      "outputs": [
        {
          "output_type": "stream",
          "name": "stdout",
          "text": [
            "1.0\n"
          ]
        }
      ]
    },
    {
      "cell_type": "markdown",
      "source": [
        "### Shape, dtype, device"
      ],
      "metadata": {
        "id": "rD2OigtuvYEU"
      }
    },
    {
      "cell_type": "code",
      "source": [
        "tensor = torch.rand(3, 4)\n",
        "\n",
        "print(f\"Shape of tensor: {tensor.shape}\") # tensor.size()\n",
        "print(f\"Datatype of tensor: {tensor.dtype}\")\n",
        "print(f\"Device tensor is stored on: {tensor.device}\")\n",
        "print(f\"Number of dimension: {tensor.ndim}\")"
      ],
      "metadata": {
        "colab": {
          "base_uri": "https://localhost:8080/"
        },
        "id": "BXP6R0qivgn8",
        "outputId": "40ef6c91-5057-4cb2-bfe6-4f5f92332854"
      },
      "execution_count": 49,
      "outputs": [
        {
          "output_type": "stream",
          "name": "stdout",
          "text": [
            "Shape of tensor: torch.Size([3, 4])\n",
            "Datatype of tensor: torch.float32\n",
            "Device tensor is stored on: cpu\n",
            "Number of dimension: 2\n"
          ]
        }
      ]
    },
    {
      "cell_type": "markdown",
      "source": [
        "### 유용한 tensor 기능들"
      ],
      "metadata": {
        "id": "kcwg28c0bZIc"
      }
    },
    {
      "cell_type": "code",
      "source": [
        "original_tensor = torch.tensor([[1, 2], [3, 4]], dtype=torch.float32)\n",
        "\n",
        "# new()를 사용하여 기존 tensor와 동일한 속성을 가진 새로운 tensor 생성\n",
        "print(original_tensor.new(2, 2))\n",
        "print(original_tensor.new_zeros(2, 2))\n",
        "print(original_tensor.new_ones(2, 2))\n",
        "print(original_tensor.new_full((2, 2), fill_value=7.0))\n",
        "\n",
        "# tensor.new_tensor(x) is equivalent to x.clone().detach()"
      ],
      "metadata": {
        "colab": {
          "base_uri": "https://localhost:8080/"
        },
        "id": "Aewo_V45d0PH",
        "outputId": "cce1d127-3b80-4f43-ea45-2d61183578d0"
      },
      "execution_count": 25,
      "outputs": [
        {
          "output_type": "stream",
          "name": "stdout",
          "text": [
            "tensor([[ 2.7019e-24,  4.5843e-41],\n",
            "        [-5.7377e-37,  3.0785e-41]])\n",
            "tensor([[0., 0.],\n",
            "        [0., 0.]])\n",
            "tensor([[1., 1.],\n",
            "        [1., 1.]])\n",
            "tensor([[7., 7.],\n",
            "        [7., 7.]])\n"
          ]
        }
      ]
    },
    {
      "cell_type": "code",
      "source": [
        "data = torch.zeros(3, 4)\n",
        "print(torch.empty_like(data))\n",
        "print(torch.zeros_like(data))\n",
        "print(torch.ones_like(data))\n",
        "print(torch.full_like(data, 3.14))\n",
        "print(torch.rand_like(data))\n",
        "print(torch.randn_like(data))"
      ],
      "metadata": {
        "colab": {
          "base_uri": "https://localhost:8080/"
        },
        "id": "T3aiCCodv88t",
        "outputId": "66c9fade-771c-4ee6-bd59-9cc05e404b6a"
      },
      "execution_count": 50,
      "outputs": [
        {
          "output_type": "stream",
          "name": "stdout",
          "text": [
            "tensor([[ 2.7019e-24,  4.5843e-41, -2.3780e+02,  3.0785e-41],\n",
            "        [ 1.6255e-43,  5.6052e-44,  1.4293e-43,  4.7644e-44],\n",
            "        [ 9.5288e-44,  1.3593e-43,  1.6255e-43,  1.3593e-43]])\n",
            "tensor([[0., 0., 0., 0.],\n",
            "        [0., 0., 0., 0.],\n",
            "        [0., 0., 0., 0.]])\n",
            "tensor([[1., 1., 1., 1.],\n",
            "        [1., 1., 1., 1.],\n",
            "        [1., 1., 1., 1.]])\n",
            "tensor([[3.1400, 3.1400, 3.1400, 3.1400],\n",
            "        [3.1400, 3.1400, 3.1400, 3.1400],\n",
            "        [3.1400, 3.1400, 3.1400, 3.1400]])\n",
            "tensor([[0.8973, 0.3223, 0.1986, 0.3935],\n",
            "        [0.2570, 0.5484, 0.5782, 0.2950],\n",
            "        [0.5016, 0.6242, 0.7964, 0.9990]])\n",
            "tensor([[ 0.4964, -0.9675,  0.5611, -0.0580],\n",
            "        [-0.1347, -0.7498,  0.9419,  1.0243],\n",
            "        [-1.0429,  0.4296, -0.3132,  0.8345]])\n"
          ]
        }
      ]
    },
    {
      "cell_type": "code",
      "source": [
        "print(torch.arange(5))\n",
        "print(torch.arange(1, 4))\n",
        "print(torch.arange(1, 4, 0.2))\n",
        "print(torch.range(1, 4, 0.5))\n",
        "\n",
        "print(torch.linspace(1, 4, 20))\n",
        "print(torch.logspace(1, 4, 20))"
      ],
      "metadata": {
        "colab": {
          "base_uri": "https://localhost:8080/"
        },
        "id": "CKpp3ri6wPaM",
        "outputId": "0c961580-6576-4b24-a913-c6b5050e035e"
      },
      "execution_count": 52,
      "outputs": [
        {
          "output_type": "stream",
          "name": "stdout",
          "text": [
            "tensor([0, 1, 2, 3, 4])\n",
            "tensor([1, 2, 3])\n",
            "tensor([1.0000, 1.2000, 1.4000, 1.6000, 1.8000, 2.0000, 2.2000, 2.4000, 2.6000,\n",
            "        2.8000, 3.0000, 3.2000, 3.4000, 3.6000, 3.8000])\n",
            "tensor([1.0000, 1.5000, 2.0000, 2.5000, 3.0000, 3.5000, 4.0000])\n",
            "tensor([1.0000, 1.1579, 1.3158, 1.4737, 1.6316, 1.7895, 1.9474, 2.1053, 2.2632,\n",
            "        2.4211, 2.5789, 2.7368, 2.8947, 3.0526, 3.2105, 3.3684, 3.5263, 3.6842,\n",
            "        3.8421, 4.0000])\n",
            "tensor([   10.0000,    14.3845,    20.6914,    29.7635,    42.8133,    61.5848,\n",
            "           88.5867,   127.4275,   183.2981,   263.6651,   379.2690,   545.5594,\n",
            "          784.7599,  1128.8379,  1623.7767,  2335.7214,  3359.8184,  4832.9302,\n",
            "         6951.9277, 10000.0000])\n"
          ]
        },
        {
          "output_type": "stream",
          "name": "stderr",
          "text": [
            "<ipython-input-52-2edae034c9c4>:4: UserWarning: torch.range is deprecated and will be removed in a future release because its behavior is inconsistent with Python's range builtin. Instead, use torch.arange, which produces values in [start, end).\n",
            "  print(torch.range(1, 4, 0.5))\n"
          ]
        }
      ]
    },
    {
      "cell_type": "markdown",
      "source": [
        "#### 복소수\n",
        "https://pytorch.org/docs/stable/tensor.html 참조"
      ],
      "metadata": {
        "id": "MLtPq_iTw3LE"
      }
    },
    {
      "cell_type": "code",
      "source": [
        "real = torch.FloatTensor([1, 2, 3])\n",
        "img = torch.FloatTensor([4, 5, 6])\n",
        "\n",
        "torch.complex(real, img)"
      ],
      "metadata": {
        "colab": {
          "base_uri": "https://localhost:8080/"
        },
        "id": "vYAFllI8w-dd",
        "outputId": "7eeb5bcc-b507-47ac-8e41-45d39674c1a4"
      },
      "execution_count": 53,
      "outputs": [
        {
          "output_type": "execute_result",
          "data": {
            "text/plain": [
              "tensor([1.+4.j, 2.+5.j, 3.+6.j])"
            ]
          },
          "metadata": {},
          "execution_count": 53
        }
      ]
    },
    {
      "cell_type": "markdown",
      "source": [
        "#### in_place\n",
        "method 뒤에 `_`가 있으면 `in_place=True` 구조와 같다(원본자체를 바꿈)\n",
        "> 바꿔치기 연산은 메모리를 일부 절약하지만, 기록(history)이 즉시 삭제되어 도함수(derivative) 계산에 문제가 발생할 수 있다. 따라서 사용을 권장하지 않는다."
      ],
      "metadata": {
        "id": "x87hYDgxxG7D"
      }
    },
    {
      "cell_type": "code",
      "source": [
        "a = torch.randn(4, 4)\n",
        "print(a)\n",
        "a.fill_(3.5)\n",
        "print(a)\n",
        "a.add_(5)\n",
        "#.zero_()\n",
        "print(a)\n",
        "print(a.abs())"
      ],
      "metadata": {
        "colab": {
          "base_uri": "https://localhost:8080/"
        },
        "id": "k4E66qr2xa-Z",
        "outputId": "c5500199-f8bc-4e84-e531-3589a02fc89a"
      },
      "execution_count": 58,
      "outputs": [
        {
          "output_type": "stream",
          "name": "stdout",
          "text": [
            "tensor([[ 0.5859, -0.3255, -0.7023, -0.9771],\n",
            "        [ 0.7893,  0.6367, -0.1856, -0.2720],\n",
            "        [-0.3070, -1.0728, -1.7261, -0.0610],\n",
            "        [ 1.3561, -0.5469,  0.6255, -0.5569]])\n",
            "tensor([[3.5000, 3.5000, 3.5000, 3.5000],\n",
            "        [3.5000, 3.5000, 3.5000, 3.5000],\n",
            "        [3.5000, 3.5000, 3.5000, 3.5000],\n",
            "        [3.5000, 3.5000, 3.5000, 3.5000]])\n",
            "tensor([[8.5000, 8.5000, 8.5000, 8.5000],\n",
            "        [8.5000, 8.5000, 8.5000, 8.5000],\n",
            "        [8.5000, 8.5000, 8.5000, 8.5000],\n",
            "        [8.5000, 8.5000, 8.5000, 8.5000]])\n",
            "tensor([[8.5000, 8.5000, 8.5000, 8.5000],\n",
            "        [8.5000, 8.5000, 8.5000, 8.5000],\n",
            "        [8.5000, 8.5000, 8.5000, 8.5000],\n",
            "        [8.5000, 8.5000, 8.5000, 8.5000]])\n"
          ]
        }
      ]
    },
    {
      "cell_type": "markdown",
      "source": [
        "#### contiguous\n"
      ],
      "metadata": {
        "id": "_jd9JxSmxeJF"
      }
    }
  ]
}